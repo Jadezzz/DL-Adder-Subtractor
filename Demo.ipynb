{
 "cells": [
  {
   "cell_type": "markdown",
   "metadata": {},
   "source": [
    "# Deep Learning Adder & Subtractor\n",
    "\n",
    "## Overview of this notebook\n",
    "\n",
    "This notebook presents: \n",
    "\n",
    "* detailed code of data genetators and model trainers for each model\n",
    "\n",
    "* simple usage of creating models using these functions\n",
    "\n",
    "### 1. Utilities\n",
    "\n",
    "### 2. Adder\n",
    "        \n",
    "   * Data Generator\n",
    "   * Model Trainer\n",
    "   * Training and Testing (Trained a 5-digit adder)\n",
    "    \n",
    "### 3. Subtractor\n",
    "    \n",
    "   * Data Generator\n",
    "   * Model Trainer\n",
    "   * Training and Testing (Trained a 4-digit subtractor)\n",
    "    \n",
    "### 4. Adder and Subtractor Combined\n",
    "    \n",
    "   * Data Generator\n",
    "   * Model Trainer\n",
    "   * Training and Testing (Trained a 5-digit adder&subtractor)\n",
    "   \n",
    "\n",
    "All Utilities are in **utils.py**\n",
    "\n",
    "All Data Generators are in **data_generators.py**\n",
    "\n",
    "All Model Trainers are in **model_trainers.py**"
   ]
  },
  {
   "cell_type": "code",
   "execution_count": 1,
   "metadata": {},
   "outputs": [
    {
     "name": "stderr",
     "output_type": "stream",
     "text": [
      "Using TensorFlow backend.\n"
     ]
    }
   ],
   "source": [
    "from keras.models import Sequential\n",
    "from keras import layers\n",
    "from keras.models import load_model\n",
    "import numpy as np\n",
    "from six.moves import range\n",
    "\n",
    "import matplotlib.pyplot as plt\n",
    "%matplotlib inline"
   ]
  },
  {
   "cell_type": "markdown",
   "metadata": {},
   "source": [
    "## 1. Utilities"
   ]
  },
  {
   "cell_type": "markdown",
   "metadata": {},
   "source": [
    "Used to present colors in testing result"
   ]
  },
  {
   "cell_type": "code",
   "execution_count": 2,
   "metadata": {},
   "outputs": [],
   "source": [
    "class colors:\n",
    "    ok = '\\033[92m'\n",
    "    fail = '\\033[91m'\n",
    "    close = '\\033[0m'"
   ]
  },
  {
   "cell_type": "markdown",
   "metadata": {},
   "source": [
    "Used to create ont-hot vector encoder-decoder"
   ]
  },
  {
   "cell_type": "code",
   "execution_count": 3,
   "metadata": {},
   "outputs": [],
   "source": [
    "class CharacterTable(object):\n",
    "    def __init__(self, chars):\n",
    "        self.chars = sorted(set(chars))\n",
    "        self.char_indices = dict((c, i) for i, c in enumerate(self.chars))\n",
    "        self.indices_char = dict((i, c) for i, c in enumerate(self.chars))\n",
    "    \n",
    "    def encode(self, C, num_rows):\n",
    "        x = np.zeros((num_rows, len(self.chars)))\n",
    "        for i, c in enumerate(C):\n",
    "            x[i, self.char_indices[c]] = 1\n",
    "        return x\n",
    "    \n",
    "    def decode(self, x, calc_argmax=True):\n",
    "        if calc_argmax:\n",
    "            x = x.argmax(axis=-1)\n",
    "        return \"\".join(self.indices_char[i] for i in x)"
   ]
  },
  {
   "cell_type": "markdown",
   "metadata": {},
   "source": [
    "Used to test model accuracy on test data"
   ]
  },
  {
   "cell_type": "code",
   "execution_count": 4,
   "metadata": {},
   "outputs": [],
   "source": [
    "def model_tester(model, test_x, test_y, ctable):\n",
    "    \n",
    "    print('Testing...')\n",
    "    \n",
    "    REVERSE = False\n",
    "    for i in range(10):\n",
    "        ind = np.random.randint(0, len(test_x))\n",
    "        rowx, rowy = test_x[np.array([ind])], test_y[np.array([ind])]\n",
    "        preds = model.predict_classes(rowx, verbose=0)\n",
    "        q = ctable.decode(rowx[0])\n",
    "        correct = ctable.decode(rowy[0])\n",
    "        guess = ctable.decode(preds[0], calc_argmax=False)\n",
    "        print('Q', q[::-1] if REVERSE else q, end=' ')\n",
    "        print('T', correct, end=' ')\n",
    "        if correct == guess:\n",
    "            print(colors.ok + '☑' + colors.close, end=' ')\n",
    "        else:\n",
    "            print(colors.fail + '☒' + colors.close, end=' ')\n",
    "        print(guess)\n",
    "    \n",
    "    print()\n",
    "    print('Test Accuracy on '+ str(len(test_x)) +' test data: ', model.evaluate(test_x, test_y, verbose=False)[1])"
   ]
  },
  {
   "cell_type": "markdown",
   "metadata": {},
   "source": [
    "## 2. Adder"
   ]
  },
  {
   "cell_type": "markdown",
   "metadata": {},
   "source": [
    "### Data Generator"
   ]
  },
  {
   "cell_type": "code",
   "execution_count": 5,
   "metadata": {},
   "outputs": [],
   "source": [
    "def generate_addition_data(train_size, digits, ctable, chars):\n",
    "    \n",
    "    data_size = train_size + 2000 + 40000\n",
    "    maxlen = digits + 1 + digits\n",
    "    questions = []\n",
    "    expected = []\n",
    "    seen = set()\n",
    "    print('Generating data...')\n",
    "    while len(questions) < data_size:\n",
    "        f = lambda: int(''.join(np.random.choice(list('0123456789')) for i in range(np.random.randint(1, digits + 1))))\n",
    "        a, b = f(), f()\n",
    "        key = tuple(sorted((a, b)))\n",
    "        if key in seen:\n",
    "            continue\n",
    "        seen.add(key)\n",
    "        q = '{}+{}'.format(a, b)\n",
    "        query = q + ' ' * (maxlen - len(q))\n",
    "        ans = str(a + b)\n",
    "        ans += ' ' * (digits + 1 - len(ans))\n",
    "        questions.append(query)\n",
    "        expected.append(ans)\n",
    "\n",
    "    print('Total addition questions:', len(questions))\n",
    "    print('Example questions:')\n",
    "    print(questions[:5], expected[:5])\n",
    "    \n",
    "    print()\n",
    "    \n",
    "    x = np.zeros((len(questions), maxlen, len(chars)), dtype=np.bool)\n",
    "    y = np.zeros((len(expected), digits + 1, len(chars)), dtype=np.bool)\n",
    "    for i, sentence in enumerate(questions):\n",
    "        x[i] = ctable.encode(sentence, maxlen)\n",
    "    for i, sentence in enumerate(expected):\n",
    "        y[i] = ctable.encode(sentence, digits + 1)\n",
    "\n",
    "    indices = np.arange(len(y))\n",
    "    np.random.shuffle(indices)\n",
    "    x = x[indices]\n",
    "    y = y[indices]\n",
    "\n",
    "    # train_test_split\n",
    "    train_x = x[:-42000]\n",
    "    train_y = y[:-42000]\n",
    "    val_x = x[-42000:-40000]\n",
    "    val_y = y[-42000:-40000]\n",
    "    test_x = x[-40000:]\n",
    "    test_y = y[-40000:]\n",
    "    \n",
    "\n",
    "    print('Training Data:')\n",
    "    print(train_x.shape)\n",
    "    print(train_y.shape)\n",
    "\n",
    "    print('Validation Data:')\n",
    "    print(val_x.shape)\n",
    "    print(val_y.shape)\n",
    "\n",
    "    print('Testing Data:')\n",
    "    print(test_x.shape)\n",
    "    print(test_y.shape)\n",
    "    \n",
    "    print()\n",
    "    \n",
    "    return train_x, train_y, val_x, val_y, test_x, test_y"
   ]
  },
  {
   "cell_type": "markdown",
   "metadata": {},
   "source": [
    "### Model Trainer"
   ]
  },
  {
   "cell_type": "code",
   "execution_count": 6,
   "metadata": {},
   "outputs": [],
   "source": [
    "def train_add_model(train_x, train_y, val_x, val_y, digits, hidden_size, batch_size, layer, epoch, chars, save_model=False):\n",
    "    \n",
    "    print('Build model...')\n",
    "\n",
    "    model = Sequential()\n",
    "    model.add(layers.LSTM(hidden_size, input_shape=(2*digits + 1, len(chars))))\n",
    "    model.add(layers.RepeatVector(digits + 1))\n",
    "    for _ in range(layer):\n",
    "        model.add(layers.LSTM(hidden_size, return_sequences=True))\n",
    "\n",
    "    model.add(layers.TimeDistributed(layers.Dense(len(chars))))\n",
    "    model.add(layers.Activation('softmax'))\n",
    "    model.compile(loss='categorical_crossentropy',\n",
    "                  optimizer='adam',\n",
    "                  metrics=['accuracy'])\n",
    "    model.summary()\n",
    "\n",
    "    history = model.fit(train_x, train_y,\n",
    "                  batch_size=batch_size,\n",
    "                  epochs=epoch,\n",
    "                  validation_data=(val_x, val_y),\n",
    "                  verbose=False\n",
    "                  )\n",
    "    \n",
    "    plt.plot(history.history['acc'])\n",
    "    plt.plot(history.history['val_acc'])\n",
    "    plt.legend(['training_acc', 'val_acc'])\n",
    "    plt.ylim(0, 1.1)\n",
    "    plt.show()\n",
    "    \n",
    "    train_size = len(train_x)\n",
    "    model_name = str(digits)+'_digits_add_'+str(epoch)+'_epochs_'+str(train_size)+'_train_'+str(layer)+'_layers'\n",
    "    \n",
    "    if save_model:\n",
    "        model.save('./models/'+model_name+'.h5')\n",
    "        \n",
    "    return model"
   ]
  },
  {
   "cell_type": "markdown",
   "metadata": {},
   "source": [
    "### Training and Testing"
   ]
  },
  {
   "cell_type": "code",
   "execution_count": 7,
   "metadata": {},
   "outputs": [
    {
     "name": "stdout",
     "output_type": "stream",
     "text": [
      "Generating data...\n",
      "Total addition questions: 102000\n",
      "Example questions:\n",
      "['3805+641   ', '4+48       ', '81+1163    ', '1271+4819  ', '78+625     '] ['4446  ', '52    ', '1244  ', '6090  ', '703   ']\n",
      "\n",
      "Training Data:\n",
      "(60000, 11, 12)\n",
      "(60000, 6, 12)\n",
      "Validation Data:\n",
      "(2000, 11, 12)\n",
      "(2000, 6, 12)\n",
      "Testing Data:\n",
      "(40000, 11, 12)\n",
      "(40000, 6, 12)\n",
      "\n",
      "Build model...\n",
      "_________________________________________________________________\n",
      "Layer (type)                 Output Shape              Param #   \n",
      "=================================================================\n",
      "lstm_1 (LSTM)                (None, 128)               72192     \n",
      "_________________________________________________________________\n",
      "repeat_vector_1 (RepeatVecto (None, 6, 128)            0         \n",
      "_________________________________________________________________\n",
      "lstm_2 (LSTM)                (None, 6, 128)            131584    \n",
      "_________________________________________________________________\n",
      "lstm_3 (LSTM)                (None, 6, 128)            131584    \n",
      "_________________________________________________________________\n",
      "time_distributed_1 (TimeDist (None, 6, 12)             1548      \n",
      "_________________________________________________________________\n",
      "activation_1 (Activation)    (None, 6, 12)             0         \n",
      "=================================================================\n",
      "Total params: 336,908\n",
      "Trainable params: 336,908\n",
      "Non-trainable params: 0\n",
      "_________________________________________________________________\n"
     ]
    },
    {
     "data": {
      "image/png": "[encoded data removed]",
      "text/plain": [
       "<Figure size 432x288 with 1 Axes>"
      ]
     },
     "metadata": {
      "needs_background": "light"
     },
     "output_type": "display_data"
    },
    {
     "name": "stdout",
     "output_type": "stream",
     "text": [
      "Testing...\n",
      "Q 3245+0      T 3245   \u001b[92m☑\u001b[0m 3245  \n",
      "Q 8312+52218  T 60530  \u001b[92m☑\u001b[0m 60530 \n",
      "Q 52661+954   T 53615  \u001b[92m☑\u001b[0m 53615 \n",
      "Q 5809+217    T 6026   \u001b[92m☑\u001b[0m 6026  \n",
      "Q 2663+794    T 3457   \u001b[92m☑\u001b[0m 3457  \n",
      "Q 1525+96574  T 98099  \u001b[92m☑\u001b[0m 98099 \n",
      "Q 6+5856      T 5862   \u001b[92m☑\u001b[0m 5862  \n",
      "Q 24+996      T 1020   \u001b[92m☑\u001b[0m 1020  \n",
      "Q 32+583      T 615    \u001b[92m☑\u001b[0m 615   \n",
      "Q 71043+67257 T 138300 \u001b[92m☑\u001b[0m 138300\n",
      "\n",
      "Test Accuracy on 40000 test data:  0.9738791672229767\n"
     ]
    }
   ],
   "source": [
    "chars = '0123456789+ '\n",
    "ctable = CharacterTable(chars)\n",
    "\n",
    "digits = 5\n",
    "epochs = 100\n",
    "layer = 2\n",
    "hidden_size = 128\n",
    "batch_size = 128\n",
    "train_size = 60000\n",
    "\n",
    "train_x, train_y, val_x, val_y, test_x, test_y = generate_addition_data(train_size=train_size,\n",
    "                                                                        digits=digits,\n",
    "                                                                        ctable=ctable,\n",
    "                                                                        chars=chars)\n",
    "model = train_add_model(train_x=train_x,\n",
    "                        train_y=train_y,\n",
    "                        val_x=val_x,\n",
    "                        val_y=val_y,\n",
    "                        digits=digits,\n",
    "                        hidden_size=hidden_size,\n",
    "                        batch_size=batch_size,\n",
    "                        layer=layer,\n",
    "                        epoch=epochs,\n",
    "                        chars = chars,\n",
    "                        save_model=True)\n",
    "\n",
    "model_tester(model=model,\n",
    "             test_x=test_x,\n",
    "             test_y=test_y,\n",
    "             ctable=ctable)\n",
    "\n",
    "del model"
   ]
  },
  {
   "cell_type": "markdown",
   "metadata": {},
   "source": [
    "## 3. Subtractor"
   ]
  },
  {
   "cell_type": "markdown",
   "metadata": {},
   "source": [
    "### Data Generator"
   ]
  },
  {
   "cell_type": "code",
   "execution_count": 8,
   "metadata": {},
   "outputs": [],
   "source": [
    "def generate_subtraction_data(train_size, digits, ctable, chars):\n",
    "    \n",
    "    data_size = train_size + 2000 + 40000\n",
    "    maxlen = digits + 1 + digits\n",
    "    questions = []\n",
    "    expected = []\n",
    "    seen = set()\n",
    "    print('Generating data...')\n",
    "    while len(questions) < data_size:\n",
    "        f = lambda: int(''.join(np.random.choice(list('0123456789')) for i in range(np.random.randint(1, digits + 1))))\n",
    "        a, b = f(), f()\n",
    "        key = tuple(sorted((a, b)))\n",
    "        if key in seen:\n",
    "            continue\n",
    "        seen.add(key)\n",
    "        big = max(a,b)\n",
    "        small = min(a,b)\n",
    "        q = '{}-{}'.format(big, small)\n",
    "        query = q + ' ' * (maxlen - len(q))\n",
    "        ans = str(big - small)\n",
    "        ans += ' ' * (digits - len(ans))\n",
    "        questions.append(query)\n",
    "        expected.append(ans)\n",
    "\n",
    "    print('Total addition questions:', len(questions))\n",
    "    print('Example questions:')\n",
    "    print(questions[:5], expected[:5])\n",
    "\n",
    "    print()\n",
    "    \n",
    "    x = np.zeros((len(questions), maxlen, len(chars)), dtype=np.bool)\n",
    "    y = np.zeros((len(expected), digits, len(chars)), dtype=np.bool)\n",
    "    for i, sentence in enumerate(questions):\n",
    "        x[i] = ctable.encode(sentence, maxlen)\n",
    "    for i, sentence in enumerate(expected):\n",
    "        y[i] = ctable.encode(sentence, digits)\n",
    "\n",
    "    indices = np.arange(len(y))\n",
    "    np.random.shuffle(indices)\n",
    "    x = x[indices]\n",
    "    y = y[indices]\n",
    "\n",
    "    # train_test_split\n",
    "    train_x = x[:-42000]\n",
    "    train_y = y[:-42000]\n",
    "    val_x = x[-42000:-40000]\n",
    "    val_y = y[-42000:-40000]\n",
    "    test_x = x[-40000:]\n",
    "    test_y = y[-40000:]\n",
    "    \n",
    "\n",
    "    print('Training Data:')\n",
    "    print(train_x.shape)\n",
    "    print(train_y.shape)\n",
    "\n",
    "    print('Validation Data:')\n",
    "    print(val_x.shape)\n",
    "    print(val_y.shape)\n",
    "\n",
    "    print('Testing Data:')\n",
    "    print(test_x.shape)\n",
    "    print(test_y.shape)\n",
    "    \n",
    "    print()\n",
    "    \n",
    "    return train_x, train_y, val_x, val_y, test_x, test_y"
   ]
  },
  {
   "cell_type": "markdown",
   "metadata": {},
   "source": [
    "### Model Trainer"
   ]
  },
  {
   "cell_type": "code",
   "execution_count": 9,
   "metadata": {},
   "outputs": [],
   "source": [
    "def train_sub_model(train_x, train_y, val_x, val_y, digits, hidden_size, batch_size, layer, epoch, chars, save_model=False):\n",
    "    \n",
    "    print('Build model...')\n",
    "\n",
    "    model = Sequential()\n",
    "    model.add(layers.LSTM(hidden_size, input_shape=(2*digits + 1, len(chars))))\n",
    "    model.add(layers.RepeatVector(digits))\n",
    "    for _ in range(layer):\n",
    "        model.add(layers.LSTM(hidden_size, return_sequences=True))\n",
    "\n",
    "    model.add(layers.TimeDistributed(layers.Dense(len(chars))))\n",
    "    model.add(layers.Activation('softmax'))\n",
    "    model.compile(loss='categorical_crossentropy',\n",
    "                  optimizer='adam',\n",
    "                  metrics=['accuracy'])\n",
    "    model.summary()\n",
    "\n",
    "    history = model.fit(train_x, train_y,\n",
    "                  batch_size=batch_size,\n",
    "                  epochs=epoch,\n",
    "                  validation_data=(val_x, val_y),\n",
    "                  verbose=False\n",
    "                  )\n",
    "    \n",
    "    plt.plot(history.history['acc'])\n",
    "    plt.plot(history.history['val_acc'])\n",
    "    plt.legend(['training_acc', 'val_acc'])\n",
    "    plt.ylim(0, 1.1)\n",
    "    plt.show()\n",
    "    \n",
    "    train_size = len(train_x)\n",
    "    model_name = str(digits)+'_digits_sub_'+str(epoch)+'_epochs_'+str(train_size)+'_train_'+str(layer)+'_layers'\n",
    "    \n",
    "    if save_model:\n",
    "        model.save('./models/'+model_name+'.h5')\n",
    "        \n",
    "    return model"
   ]
  },
  {
   "cell_type": "markdown",
   "metadata": {},
   "source": [
    "### Training and Testing"
   ]
  },
  {
   "cell_type": "code",
   "execution_count": 10,
   "metadata": {},
   "outputs": [
    {
     "name": "stdout",
     "output_type": "stream",
     "text": [
      "Generating data...\n",
      "Total addition questions: 102000\n",
      "Example questions:\n",
      "['8-7      ', '9800-466 ', '2814-193 ', '8615-1   ', '235-5    '] ['1   ', '9334', '2621', '8614', '230 ']\n",
      "\n",
      "Training Data:\n",
      "(60000, 9, 12)\n",
      "(60000, 4, 12)\n",
      "Validation Data:\n",
      "(2000, 9, 12)\n",
      "(2000, 4, 12)\n",
      "Testing Data:\n",
      "(40000, 9, 12)\n",
      "(40000, 4, 12)\n",
      "\n",
      "Build model...\n",
      "_________________________________________________________________\n",
      "Layer (type)                 Output Shape              Param #   \n",
      "=================================================================\n",
      "lstm_4 (LSTM)                (None, 128)               72192     \n",
      "_________________________________________________________________\n",
      "repeat_vector_2 (RepeatVecto (None, 4, 128)            0         \n",
      "_________________________________________________________________\n",
      "lstm_5 (LSTM)                (None, 4, 128)            131584    \n",
      "_________________________________________________________________\n",
      "time_distributed_2 (TimeDist (None, 4, 12)             1548      \n",
      "_________________________________________________________________\n",
      "activation_2 (Activation)    (None, 4, 12)             0         \n",
      "=================================================================\n",
      "Total params: 205,324\n",
      "Trainable params: 205,324\n",
      "Non-trainable params: 0\n",
      "_________________________________________________________________\n"
     ]
    },
    {
     "data": {
      "image/png": "[encoded data removed]",
      "text/plain": [
       "<Figure size 432x288 with 1 Axes>"
      ]
     },
     "metadata": {
      "needs_background": "light"
     },
     "output_type": "display_data"
    },
    {
     "name": "stdout",
     "output_type": "stream",
     "text": [
      "Testing...\n",
      "Q 703-278   T 425  \u001b[92m☑\u001b[0m 425 \n",
      "Q 9440-5925 T 3515 \u001b[92m☑\u001b[0m 3515\n",
      "Q 3943-14   T 3929 \u001b[92m☑\u001b[0m 3929\n",
      "Q 9986-4    T 9982 \u001b[92m☑\u001b[0m 9982\n",
      "Q 1693-7    T 1686 \u001b[92m☑\u001b[0m 1686\n",
      "Q 4077-28   T 4049 \u001b[92m☑\u001b[0m 4049\n",
      "Q 6950-783  T 6167 \u001b[92m☑\u001b[0m 6167\n",
      "Q 235-193   T 42   \u001b[92m☑\u001b[0m 42  \n",
      "Q 955-338   T 617  \u001b[92m☑\u001b[0m 617 \n",
      "Q 12-6      T 6    \u001b[92m☑\u001b[0m 6   \n",
      "\n",
      "Test Accuracy on 40000 test data:  0.966125\n"
     ]
    }
   ],
   "source": [
    "chars = '0123456789- '\n",
    "ctable = CharacterTable(chars)\n",
    "\n",
    "digits = 4\n",
    "epochs = 100\n",
    "layer = 1\n",
    "hidden_size = 128\n",
    "batch_size = 128\n",
    "train_size = 60000\n",
    "\n",
    "train_x, train_y, val_x, val_y, test_x, test_y = generate_subtraction_data(train_size=train_size,\n",
    "                                                                        digits=digits,\n",
    "                                                                        ctable=ctable,\n",
    "                                                                        chars=chars)\n",
    "model = train_sub_model(train_x=train_x,\n",
    "                        train_y=train_y,\n",
    "                        val_x=val_x,\n",
    "                        val_y=val_y,\n",
    "                        digits=digits,\n",
    "                        hidden_size=hidden_size,\n",
    "                        batch_size=batch_size,\n",
    "                        layer=layer,\n",
    "                        epoch=epochs,\n",
    "                        chars = chars,\n",
    "                        save_model=True)\n",
    "\n",
    "model_tester(model=model,\n",
    "             test_x=test_x,\n",
    "             test_y=test_y,\n",
    "             ctable=ctable)\n",
    "\n",
    "del model"
   ]
  },
  {
   "cell_type": "markdown",
   "metadata": {},
   "source": [
    "## 4. Adder and Subtractor Combined"
   ]
  },
  {
   "cell_type": "markdown",
   "metadata": {},
   "source": [
    "### Data Generator"
   ]
  },
  {
   "cell_type": "code",
   "execution_count": 11,
   "metadata": {},
   "outputs": [],
   "source": [
    "def generate_add_sub_data(train_size, digits, ctable, chars):\n",
    "    \n",
    "    data_size = train_size + 2000 + 40000\n",
    "    maxlen = digits + 1 + digits\n",
    "    questions = []\n",
    "    expected = []\n",
    "    seen = set()\n",
    "    count = 0\n",
    "    print('Generating data...')\n",
    "    while len(questions) < data_size:\n",
    "        f = lambda: int(''.join(np.random.choice(list('0123456789')) for i in range(np.random.randint(1, digits + 1))))\n",
    "        a, b = f(), f()\n",
    "        key = tuple(sorted((a, b)))\n",
    "        if key in seen:\n",
    "            continue\n",
    "        seen.add(key)\n",
    "        \n",
    "        if count < data_size/2:\n",
    "            q = '{}+{}'.format(a, b)\n",
    "            query = q + ' ' * (maxlen - len(q))\n",
    "            ans = str(a + b)\n",
    "            ans += ' ' * (digits + 1 - len(ans))\n",
    "        else:\n",
    "            big = max(a,b)\n",
    "            small = min(a,b)\n",
    "            q = '{}-{}'.format(big, small)\n",
    "            query = q + ' ' * (maxlen - len(q))\n",
    "            ans = str(big - small)\n",
    "            ans += ' ' * (digits + 1 - len(ans))\n",
    "        questions.append(query)\n",
    "        expected.append(ans)\n",
    "        count += 1\n",
    "\n",
    "    print('Total combined questions:', len(questions))\n",
    "    print('Example questions:')\n",
    "    print(questions[:5], expected[:5])\n",
    "    print(questions[-5:], expected[-5:])\n",
    "    \n",
    "    print()\n",
    "\n",
    "    x = np.zeros((len(questions), maxlen, len(chars)), dtype=np.bool)\n",
    "    y = np.zeros((len(expected), digits + 1, len(chars)), dtype=np.bool)\n",
    "    for i, sentence in enumerate(questions):\n",
    "        x[i] = ctable.encode(sentence, maxlen)\n",
    "    for i, sentence in enumerate(expected):\n",
    "        y[i] = ctable.encode(sentence, digits + 1)\n",
    "\n",
    "    indices = np.arange(len(y))\n",
    "    np.random.shuffle(indices)\n",
    "    x = x[indices]\n",
    "    y = y[indices]\n",
    "\n",
    "    # train_test_split\n",
    "    train_x = x[:-42000]\n",
    "    train_y = y[:-42000]\n",
    "    val_x = x[-42000:-40000]\n",
    "    val_y = y[-42000:-40000]\n",
    "    test_x = x[-40000:]\n",
    "    test_y = y[-40000:]\n",
    "    \n",
    "\n",
    "    print('Training Data:')\n",
    "    print(train_x.shape)\n",
    "    print(train_y.shape)\n",
    "\n",
    "    print('Validation Data:')\n",
    "    print(val_x.shape)\n",
    "    print(val_y.shape)\n",
    "\n",
    "    print('Testing Data:')\n",
    "    print(test_x.shape)\n",
    "    print(test_y.shape)\n",
    "    \n",
    "    print()\n",
    "    \n",
    "    return train_x, train_y, val_x, val_y, test_x, test_y"
   ]
  },
  {
   "cell_type": "markdown",
   "metadata": {},
   "source": [
    "### Model Trainer"
   ]
  },
  {
   "cell_type": "code",
   "execution_count": 12,
   "metadata": {},
   "outputs": [],
   "source": [
    "def train_comb_model(train_x, train_y, val_x, val_y, digits, hidden_size, batch_size, layer, epoch, chars, save_model=False):\n",
    "    \n",
    "    print('Build model...')\n",
    "\n",
    "    model = Sequential()\n",
    "    model.add(layers.LSTM(hidden_size, input_shape=(2*digits + 1, len(chars))))\n",
    "    model.add(layers.RepeatVector(digits + 1))\n",
    "    for _ in range(layer):\n",
    "        model.add(layers.LSTM(hidden_size, return_sequences=True))\n",
    "\n",
    "    model.add(layers.TimeDistributed(layers.Dense(len(chars))))\n",
    "    model.add(layers.Activation('softmax'))\n",
    "    model.compile(loss='categorical_crossentropy',\n",
    "                  optimizer='adam',\n",
    "                  metrics=['accuracy'])\n",
    "    model.summary()\n",
    "\n",
    "    history = model.fit(train_x, train_y,\n",
    "                  batch_size=batch_size,\n",
    "                  epochs=epoch,\n",
    "                  validation_data=(val_x, val_y),\n",
    "                  verbose=False\n",
    "                  )\n",
    "    \n",
    "    plt.plot(history.history['acc'])\n",
    "    plt.plot(history.history['val_acc'])\n",
    "    plt.legend(['training_acc', 'val_acc'])\n",
    "    plt.ylim(0, 1.1)\n",
    "    plt.show()\n",
    "    \n",
    "    train_size = len(train_x)\n",
    "    model_name = str(digits)+'_digits_comb_'+str(epoch)+'_epochs_'+str(train_size)+'_train_'+str(layer)+'_layers'\n",
    "    \n",
    "    if save_model:\n",
    "        model.save('./models/'+model_name+'.h5')\n",
    "        \n",
    "    return model"
   ]
  },
  {
   "cell_type": "markdown",
   "metadata": {},
   "source": [
    "### Training and Testing"
   ]
  },
  {
   "cell_type": "code",
   "execution_count": 14,
   "metadata": {},
   "outputs": [
    {
     "name": "stdout",
     "output_type": "stream",
     "text": [
      "Generating data...\n",
      "Total combined questions: 142000\n",
      "Example questions:\n",
      "['21+35761   ', '4663+1615  ', '7+78807    ', '3769+62    ', '15710+7595 '] ['35782 ', '6278  ', '78814 ', '3831  ', '23305 ']\n",
      "['16175-7120 ', '675-354    ', '9224-200   ', '5632-2233  ', '2976-2     '] ['9055  ', '321   ', '9024  ', '3399  ', '2974  ']\n",
      "\n",
      "Training Data:\n",
      "(100000, 11, 13)\n",
      "(100000, 6, 13)\n",
      "Validation Data:\n",
      "(2000, 11, 13)\n",
      "(2000, 6, 13)\n",
      "Testing Data:\n",
      "(40000, 11, 13)\n",
      "(40000, 6, 13)\n",
      "\n",
      "Build model...\n",
      "_________________________________________________________________\n",
      "Layer (type)                 Output Shape              Param #   \n",
      "=================================================================\n",
      "lstm_9 (LSTM)                (None, 256)               276480    \n",
      "_________________________________________________________________\n",
      "repeat_vector_4 (RepeatVecto (None, 6, 256)            0         \n",
      "_________________________________________________________________\n",
      "lstm_10 (LSTM)               (None, 6, 256)            525312    \n",
      "_________________________________________________________________\n",
      "lstm_11 (LSTM)               (None, 6, 256)            525312    \n",
      "_________________________________________________________________\n",
      "time_distributed_4 (TimeDist (None, 6, 13)             3341      \n",
      "_________________________________________________________________\n",
      "activation_4 (Activation)    (None, 6, 13)             0         \n",
      "=================================================================\n",
      "Total params: 1,330,445\n",
      "Trainable params: 1,330,445\n",
      "Non-trainable params: 0\n",
      "_________________________________________________________________\n"
     ]
    },
    {
     "data": {
      "image/png": "[encoded data removed]",
      "text/plain": [
       "<Figure size 432x288 with 1 Axes>"
      ]
     },
     "metadata": {
      "needs_background": "light"
     },
     "output_type": "display_data"
    },
    {
     "name": "stdout",
     "output_type": "stream",
     "text": [
      "Testing...\n",
      "Q 1297+2      T 1299   \u001b[91m☒\u001b[0m 1309  \n",
      "Q 23272+806   T 24078  \u001b[92m☑\u001b[0m 24078 \n",
      "Q 1868+427    T 2295   \u001b[92m☑\u001b[0m 2295  \n",
      "Q 81358+870   T 82228  \u001b[92m☑\u001b[0m 82228 \n",
      "Q 52487-2201  T 50286  \u001b[92m☑\u001b[0m 50286 \n",
      "Q 8317-581    T 7736   \u001b[92m☑\u001b[0m 7736  \n",
      "Q 568+97      T 665    \u001b[92m☑\u001b[0m 665   \n",
      "Q 7633-2541   T 5092   \u001b[92m☑\u001b[0m 5092  \n",
      "Q 5588+222    T 5810   \u001b[92m☑\u001b[0m 5810  \n",
      "Q 28+92907    T 92935  \u001b[92m☑\u001b[0m 92935 \n",
      "\n",
      "Test Accuracy on 40000 test data:  0.969787499666214\n"
     ]
    }
   ],
   "source": [
    "chars = '0123456789+- '\n",
    "ctable = CharacterTable(chars)\n",
    "\n",
    "digits = 5\n",
    "epochs = 150\n",
    "layer = 2\n",
    "hidden_size = 256\n",
    "batch_size = 128\n",
    "train_size = 100000\n",
    "\n",
    "train_x, train_y, val_x, val_y, test_x, test_y = generate_add_sub_data(train_size=train_size,\n",
    "                                                                        digits=digits,\n",
    "                                                                        ctable=ctable,\n",
    "                                                                        chars=chars)\n",
    "model = train_comb_model(train_x=train_x,\n",
    "                        train_y=train_y,\n",
    "                        val_x=val_x,\n",
    "                        val_y=val_y,\n",
    "                        digits=digits,\n",
    "                        hidden_size=hidden_size,\n",
    "                        batch_size=batch_size,\n",
    "                        layer=layer,\n",
    "                        epoch=epochs,\n",
    "                        chars = chars,\n",
    "                        save_model=True)\n",
    "\n",
    "model_tester(model=model,\n",
    "             test_x=test_x,\n",
    "             test_y=test_y,\n",
    "             ctable=ctable)\n",
    "\n",
    "del model"
   ]
  },
  {
   "cell_type": "code",
   "execution_count": null,
   "metadata": {},
   "outputs": [],
   "source": []
  }
 ],
 "metadata": {
  "kernelspec": {
   "display_name": "Python 3",
   "language": "python",
   "name": "python3"
  },
  "language_info": {
   "codemirror_mode": {
    "name": "ipython",
    "version": 3
   },
   "file_extension": ".py",
   "mimetype": "text/x-python",
   "name": "python",
   "nbconvert_exporter": "python",
   "pygments_lexer": "ipython3",
   "version": "3.6.7"
  }
 },
 "nbformat": 4,
 "nbformat_minor": 2
}
